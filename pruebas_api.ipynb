{
 "cells": [
  {
   "cell_type": "code",
   "execution_count": 130,
   "metadata": {},
   "outputs": [
    {
     "name": "stderr",
     "output_type": "stream",
     "text": [
      "[nltk_data] Downloading package vader_lexicon to\n",
      "[nltk_data]     /Users/mimivelloso/nltk_data...\n",
      "[nltk_data]   Package vader_lexicon is already up-to-date!\n"
     ]
    },
    {
     "data": {
      "text/plain": [
       "True"
      ]
     },
     "execution_count": 130,
     "metadata": {},
     "output_type": "execute_result"
    }
   ],
   "source": [
    "import requests\n",
    "from nltk.sentiment.vader import SentimentIntensityAnalyzer\n",
    "import nltk\n",
    "nltk.download('vader_lexicon')"
   ]
  },
  {
   "cell_type": "markdown",
   "metadata": {},
   "source": [
    "## Endpoints"
   ]
  },
  {
   "cell_type": "code",
   "execution_count": 33,
   "metadata": {},
   "outputs": [
    {
     "data": {
      "text/plain": [
       "<Response [200]>"
      ]
     },
     "execution_count": 33,
     "metadata": {},
     "output_type": "execute_result"
    }
   ],
   "source": [
    "url = \"http://localhost:3000/\"\n",
    "requests.get(url)"
   ]
  },
  {
   "cell_type": "code",
   "execution_count": 52,
   "metadata": {},
   "outputs": [],
   "source": [
    "names = [\"ana\", \"david\", \"juan\"]"
   ]
  },
  {
   "cell_type": "code",
   "execution_count": 53,
   "metadata": {},
   "outputs": [
    {
     "name": "stdout",
     "output_type": "stream",
     "text": [
      "<Response [200]>\n"
     ]
    },
    {
     "data": {
      "text/plain": [
       "'\"Sucess! user_name :juan\"'"
      ]
     },
     "execution_count": 53,
     "metadata": {},
     "output_type": "execute_result"
    }
   ],
   "source": [
    "for n in names:\n",
    "    db_names = requests.get(f'http://localhost:3000/user/create/{n}')\n",
    "print(db_names)\n",
    "db_names.text"
   ]
  },
  {
   "cell_type": "code",
   "execution_count": 50,
   "metadata": {},
   "outputs": [
    {
     "data": {
      "text/plain": [
       "'Error: This chat already exists'"
      ]
     },
     "execution_count": 50,
     "metadata": {},
     "output_type": "execute_result"
    }
   ],
   "source": [
    "db_chats = requests.get(f'http://localhost:3000/chat/create/Music')\n",
    "db_chats.text"
   ]
  },
  {
   "cell_type": "code",
   "execution_count": 54,
   "metadata": {},
   "outputs": [],
   "source": [
    "message = \"I like Bon Jovi songs\""
   ]
  },
  {
   "cell_type": "code",
   "execution_count": 56,
   "metadata": {},
   "outputs": [
    {
     "name": "stdout",
     "output_type": "stream",
     "text": [
      "<Response [200]>\n"
     ]
    },
    {
     "data": {
      "text/plain": [
       "'Great! The message were added to the chat.'"
      ]
     },
     "execution_count": 56,
     "metadata": {},
     "output_type": "execute_result"
    }
   ],
   "source": [
    "db_msg = requests.get(f\"http://localhost:3000/chat/Music/user/Sarah/addmessage/{message}\")\n",
    "print(db_msg)\n",
    "db_msg.text"
   ]
  },
  {
   "cell_type": "markdown",
   "metadata": {},
   "source": [
    "## Sentimental Analysis"
   ]
  },
  {
   "cell_type": "code",
   "execution_count": 63,
   "metadata": {},
   "outputs": [
    {
     "name": "stdout",
     "output_type": "stream",
     "text": [
      "<Response [200]>\n"
     ]
    },
    {
     "data": {
      "text/plain": [
       "'[{\"message_text\": \"What music do you guys like to listen to? \"}, {\"message_text\": \"I like Bon Jovi songs\"}, {\"message_text\": \"What\\\\u2019s your favorite band / singer? I like Sia.\"}, {\"message_text\": \"My favourite artist is Rihanna! \"}]'"
      ]
     },
     "execution_count": 63,
     "metadata": {},
     "output_type": "execute_result"
    }
   ],
   "source": [
    "all_messages_music = requests.get(f'http://localhost:3000/chat/Music/list')\n",
    "print(all_messages_music)\n",
    "all_messages_music.text"
   ]
  },
  {
   "cell_type": "code",
   "execution_count": 133,
   "metadata": {},
   "outputs": [
    {
     "name": "stdout",
     "output_type": "stream",
     "text": [
      "{'Resume': 'Mostly positive', 'Score': {'compound': 0.8793, 'neg': 0.0, 'neu': 0.715, 'pos': 0.285}}\n"
     ]
    }
   ],
   "source": [
    "sent_music = requests.get(f'http://localhost:3000/chat/Music/sentiment').json()\n",
    "print(sent_music)\n"
   ]
  },
  {
   "cell_type": "markdown",
   "metadata": {},
   "source": [
    "## Recommended "
   ]
  },
  {
   "cell_type": "code",
   "execution_count": 127,
   "metadata": {},
   "outputs": [],
   "source": [
    "user_names = [\"Liam\",\"Sarah\",\"Lilly\",\"Sophie\",\"Peter\",\"Lucy\"]"
   ]
  },
  {
   "cell_type": "code",
   "execution_count": 129,
   "metadata": {},
   "outputs": [
    {
     "name": "stdout",
     "output_type": "stream",
     "text": [
      "{'The friends recommended for Liam are': '[\"david\", \"ana\", \"Sophie\"]'}\n",
      "{'The friends recommended for Sarah are': '[\"david\", \"ana\", \"Sophie\"]'}\n",
      "{'The friends recommended for Lilly are': '[\"david\", \"ana\", \"Sophie\"]'}\n",
      "{'The friends recommended for Sophie are': '[\"david\", \"ana\", \"Sophie\"]'}\n",
      "{'The friends recommended for Peter are': '[\"david\", \"ana\", \"Sophie\"]'}\n",
      "{'The friends recommended for Lucy are': '[\"david\", \"ana\", \"Sophie\"]'}\n"
     ]
    }
   ],
   "source": [
    "for users in user_names:\n",
    "    recommendation = requests.get(f'http://localhost:3000/user/{users}/recommend').json()\n",
    "    print(recommendation)"
   ]
  },
  {
   "cell_type": "code",
   "execution_count": null,
   "metadata": {},
   "outputs": [],
   "source": []
  },
  {
   "cell_type": "code",
   "execution_count": null,
   "metadata": {},
   "outputs": [],
   "source": []
  }
 ],
 "metadata": {
  "kernelspec": {
   "display_name": "Python 3",
   "language": "python",
   "name": "python3"
  },
  "language_info": {
   "codemirror_mode": {
    "name": "ipython",
    "version": 3
   },
   "file_extension": ".py",
   "mimetype": "text/x-python",
   "name": "python",
   "nbconvert_exporter": "python",
   "pygments_lexer": "ipython3",
   "version": "3.7.7"
  }
 },
 "nbformat": 4,
 "nbformat_minor": 4
}
